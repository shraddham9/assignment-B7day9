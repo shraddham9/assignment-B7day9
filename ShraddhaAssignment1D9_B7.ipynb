{
  "nbformat": 4,
  "nbformat_minor": 0,
  "metadata": {
    "colab": {
      "name": "ShraddhaAssignment1D9-B7.ipynb",
      "provenance": []
    },
    "kernelspec": {
      "name": "python3",
      "display_name": "Python 3"
    }
  },
  "cells": [
    {
      "cell_type": "code",
      "metadata": {
        "id": "zTI7m318d-jt",
        "colab_type": "code",
        "colab": {
          "base_uri": "https://localhost:8080/",
          "height": 411
        },
        "outputId": "cd5e6dc4-3e42-47e2-a410-1d71aa164c1a"
      },
      "source": [
        "! pip install pylint"
      ],
      "execution_count": 11,
      "outputs": [
        {
          "output_type": "stream",
          "text": [
            "Collecting pylint\n",
            "\u001b[?25l  Downloading https://files.pythonhosted.org/packages/fb/13/519c1264a134beab2be4bac8dd3e64948980a5ca7833b31cf0255b21f20a/pylint-2.6.0-py3-none-any.whl (325kB)\n",
            "\r\u001b[K     |█                               | 10kB 17.9MB/s eta 0:00:01\r\u001b[K     |██                              | 20kB 1.8MB/s eta 0:00:01\r\u001b[K     |███                             | 30kB 2.4MB/s eta 0:00:01\r\u001b[K     |████                            | 40kB 2.6MB/s eta 0:00:01\r\u001b[K     |█████                           | 51kB 2.1MB/s eta 0:00:01\r\u001b[K     |██████                          | 61kB 2.3MB/s eta 0:00:01\r\u001b[K     |███████                         | 71kB 2.6MB/s eta 0:00:01\r\u001b[K     |████████                        | 81kB 2.8MB/s eta 0:00:01\r\u001b[K     |█████████                       | 92kB 3.0MB/s eta 0:00:01\r\u001b[K     |██████████                      | 102kB 2.9MB/s eta 0:00:01\r\u001b[K     |███████████                     | 112kB 2.9MB/s eta 0:00:01\r\u001b[K     |████████████                    | 122kB 2.9MB/s eta 0:00:01\r\u001b[K     |█████████████                   | 133kB 2.9MB/s eta 0:00:01\r\u001b[K     |██████████████                  | 143kB 2.9MB/s eta 0:00:01\r\u001b[K     |███████████████                 | 153kB 2.9MB/s eta 0:00:01\r\u001b[K     |████████████████                | 163kB 2.9MB/s eta 0:00:01\r\u001b[K     |█████████████████               | 174kB 2.9MB/s eta 0:00:01\r\u001b[K     |██████████████████              | 184kB 2.9MB/s eta 0:00:01\r\u001b[K     |███████████████████▏            | 194kB 2.9MB/s eta 0:00:01\r\u001b[K     |████████████████████▏           | 204kB 2.9MB/s eta 0:00:01\r\u001b[K     |█████████████████████▏          | 215kB 2.9MB/s eta 0:00:01\r\u001b[K     |██████████████████████▏         | 225kB 2.9MB/s eta 0:00:01\r\u001b[K     |███████████████████████▏        | 235kB 2.9MB/s eta 0:00:01\r\u001b[K     |████████████████████████▏       | 245kB 2.9MB/s eta 0:00:01\r\u001b[K     |█████████████████████████▏      | 256kB 2.9MB/s eta 0:00:01\r\u001b[K     |██████████████████████████▏     | 266kB 2.9MB/s eta 0:00:01\r\u001b[K     |███████████████████████████▏    | 276kB 2.9MB/s eta 0:00:01\r\u001b[K     |████████████████████████████▏   | 286kB 2.9MB/s eta 0:00:01\r\u001b[K     |█████████████████████████████▏  | 296kB 2.9MB/s eta 0:00:01\r\u001b[K     |██████████████████████████████▏ | 307kB 2.9MB/s eta 0:00:01\r\u001b[K     |███████████████████████████████▏| 317kB 2.9MB/s eta 0:00:01\r\u001b[K     |████████████████████████████████| 327kB 2.9MB/s \n",
            "\u001b[?25hCollecting mccabe<0.7,>=0.6\n",
            "  Downloading https://files.pythonhosted.org/packages/87/89/479dc97e18549e21354893e4ee4ef36db1d237534982482c3681ee6e7b57/mccabe-0.6.1-py2.py3-none-any.whl\n",
            "Collecting astroid<=2.5,>=2.4.0\n",
            "\u001b[?25l  Downloading https://files.pythonhosted.org/packages/24/a8/5133f51967fb21e46ee50831c3f5dda49e976b7f915408d670b1603d41d6/astroid-2.4.2-py3-none-any.whl (213kB)\n",
            "\u001b[K     |████████████████████████████████| 215kB 9.2MB/s \n",
            "\u001b[?25hRequirement already satisfied: toml>=0.7.1 in /usr/local/lib/python3.6/dist-packages (from pylint) (0.10.1)\n",
            "Collecting isort<6,>=4.2.5\n",
            "\u001b[?25l  Downloading https://files.pythonhosted.org/packages/d1/25/7ed95ccb07d3ce52598f5a57d002da6a18074ea8749991b10936cc20e539/isort-5.5.2-py3-none-any.whl (95kB)\n",
            "\u001b[K     |████████████████████████████████| 102kB 6.3MB/s \n",
            "\u001b[?25hCollecting typed-ast<1.5,>=1.4.0; implementation_name == \"cpython\" and python_version < \"3.8\"\n",
            "\u001b[?25l  Downloading https://files.pythonhosted.org/packages/90/ed/5459080d95eb87a02fe860d447197be63b6e2b5e9ff73c2b0a85622994f4/typed_ast-1.4.1-cp36-cp36m-manylinux1_x86_64.whl (737kB)\n",
            "\u001b[K     |████████████████████████████████| 747kB 8.5MB/s \n",
            "\u001b[?25hRequirement already satisfied: wrapt~=1.11 in /usr/local/lib/python3.6/dist-packages (from astroid<=2.5,>=2.4.0->pylint) (1.12.1)\n",
            "Requirement already satisfied: six~=1.12 in /usr/local/lib/python3.6/dist-packages (from astroid<=2.5,>=2.4.0->pylint) (1.15.0)\n",
            "Collecting lazy-object-proxy==1.4.*\n",
            "\u001b[?25l  Downloading https://files.pythonhosted.org/packages/0b/dd/b1e3407e9e6913cf178e506cd0dee818e58694d9a5cd1984e3f6a8b9a10f/lazy_object_proxy-1.4.3-cp36-cp36m-manylinux1_x86_64.whl (55kB)\n",
            "\u001b[K     |████████████████████████████████| 61kB 6.2MB/s \n",
            "\u001b[?25hInstalling collected packages: mccabe, typed-ast, lazy-object-proxy, astroid, isort, pylint\n",
            "Successfully installed astroid-2.4.2 isort-5.5.2 lazy-object-proxy-1.4.3 mccabe-0.6.1 pylint-2.6.0 typed-ast-1.4.1\n"
          ],
          "name": "stdout"
        }
      ]
    },
    {
      "cell_type": "code",
      "metadata": {
        "id": "jl9EU8gnjYyP",
        "colab_type": "code",
        "colab": {
          "base_uri": "https://localhost:8080/",
          "height": 34
        },
        "outputId": "de70cd9f-fccf-443b-9c6a-c33b07027711"
      },
      "source": [
        "#creatingfunctionprogramforunittesting\n",
        "%%writefile prime.py\n",
        "'''\n",
        "It is  a prime number\n",
        "'''\n",
        "def isprime(num):\n",
        "    '''\n",
        "    It is prime\n",
        "    '''\n",
        "    if num in(0, 1):\n",
        "        return False\n",
        "    for prime in range(2, num-1):\n",
        "        if num % prime == 0:\n",
        "\n",
        "            return False\n",
        "        return True\n",
        "    "
      ],
      "execution_count": 44,
      "outputs": [
        {
          "output_type": "stream",
          "text": [
            "Overwriting prime.py\n"
          ],
          "name": "stdout"
        }
      ]
    },
    {
      "cell_type": "code",
      "metadata": {
        "id": "yI5Ij02zjgyT",
        "colab_type": "code",
        "colab": {
          "base_uri": "https://localhost:8080/",
          "height": 85
        },
        "outputId": "bf556e12-3a09-41f0-901a-a6b700563ae0"
      },
      "source": [
        "! pylint prime.py"
      ],
      "execution_count": 45,
      "outputs": [
        {
          "output_type": "stream",
          "text": [
            "\n",
            "-------------------------------------------------------------------\n",
            "Your code has been rated at 10.00/10 (previous run: 8.57/10, +1.43)\n",
            "\n"
          ],
          "name": "stdout"
        }
      ]
    },
    {
      "cell_type": "code",
      "metadata": {
        "id": "dFm3ilgvkJto",
        "colab_type": "code",
        "colab": {
          "base_uri": "https://localhost:8080/",
          "height": 34
        },
        "outputId": "15bb7b6e-7e0e-4c9e-f122-7c6a81a8323b"
      },
      "source": [
        "import prime\n",
        "prime.isprime(117)"
      ],
      "execution_count": 38,
      "outputs": [
        {
          "output_type": "execute_result",
          "data": {
            "text/plain": [
              "True"
            ]
          },
          "metadata": {
            "tags": []
          },
          "execution_count": 38
        }
      ]
    },
    {
      "cell_type": "code",
      "metadata": {
        "id": "wwmOcRualJHJ",
        "colab_type": "code",
        "colab": {
          "base_uri": "https://localhost:8080/",
          "height": 34
        },
        "outputId": "5a11085f-e5b2-4639-be85-6acfd6109c36"
      },
      "source": [
        "#unittesting\n",
        "%%writefile primenumber.py\n",
        "\n",
        "import unittest\n",
        "import prime\n",
        "\n",
        "class primenumber(unittest.TestCase):\n",
        "    def testprime(self):\n",
        "        Number = 32\n",
        "        result = prime.isprime(Number)\n",
        "        self.assertEquals(result, False)\n",
        "\n",
        "        \n",
        "    def testprimenum(self):\n",
        "        Num = 199\n",
        "        res = prime.isprime(Num)\n",
        "        self.assertEquals(res, True)\n",
        "\n",
        "        \n",
        "        \n",
        "if __name__ == \"__main__\":\n",
        "    unittest.main()"
      ],
      "execution_count": 49,
      "outputs": [
        {
          "output_type": "stream",
          "text": [
            "Overwriting primenumber.py\n"
          ],
          "name": "stdout"
        }
      ]
    },
    {
      "cell_type": "code",
      "metadata": {
        "id": "n4o_ZM8inDDD",
        "colab_type": "code",
        "colab": {
          "base_uri": "https://localhost:8080/",
          "height": 102
        },
        "outputId": "4b411dfa-5098-4a55-ffc2-a7734e0399af"
      },
      "source": [
        "! python primenumber.py"
      ],
      "execution_count": 50,
      "outputs": [
        {
          "output_type": "stream",
          "text": [
            "..\n",
            "----------------------------------------------------------------------\n",
            "Ran 2 tests in 0.000s\n",
            "\n",
            "OK\n"
          ],
          "name": "stdout"
        }
      ]
    }
  ]
}